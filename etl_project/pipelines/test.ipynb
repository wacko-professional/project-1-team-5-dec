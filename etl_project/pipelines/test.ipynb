{
 "cells": [
  {
   "cell_type": "code",
   "execution_count": 1,
   "metadata": {},
   "outputs": [],
   "source": [
    "import requests\n",
    "\n",
    "if __name__ == \"__main__\":\n",
    "\n",
    "    results1 = \"\"\"{\n",
    "        \"success\": true,\n",
    "        \"timeseries\": true,\n",
    "        \"start_date\": \"2012-05-01\",\n",
    "        \"end_date\": \"2012-05-03\",\n",
    "        \"base\": \"EUR\",\n",
    "        \"rates\": {\n",
    "            \"2012-05-01\": {\n",
    "            \"USD\": 1.322891,\n",
    "            \"AUD\": 1.278047,\n",
    "            \"CAD\": 1.302303\n",
    "            },\n",
    "            \"2012-05-02\": {\n",
    "            \"USD\": 1.315066,\n",
    "            \"AUD\": 1.274202,\n",
    "            \"CAD\": 1.299083\n",
    "            },\n",
    "            \"2012-05-03\": {\n",
    "            \"USD\": 1.314491,\n",
    "            \"AUD\": 1.280135,\n",
    "            \"CAD\": 1.296868\n",
    "            }\n",
    "        }\n",
    "    }\"\"\"\n",
    "\n",
    "    results = \"\"\"{\n",
    "        \"success\": true,\n",
    "        \"timestamp\": 1519296206,\n",
    "        \"base\": \"EUR\",\n",
    "        \"date\": \"2021-03-17\",\n",
    "        \"rates\": {\n",
    "            \"AUD\": 1.566015,\n",
    "            \"CAD\": 1.560132,\n",
    "            \"CHF\": 1.154727,\n",
    "            \"CNY\": 7.827874,\n",
    "            \"GBP\": 0.882047,\n",
    "            \"JPY\": 132.360679,\n",
    "            \"USD\": 1.23396\n",
    "        }\n",
    "    }\"\"\"\n",
    "\n",
    "    # print(df.to_dict(orient=\"records\"))\n",
    "\n",
    "    # for key, value in df.items():\n",
    "    #     print(f'{value[[1]]}')"
   ]
  },
  {
   "cell_type": "code",
   "execution_count": 2,
   "metadata": {},
   "outputs": [
    {
     "data": {
      "text/plain": [
       "{'success': True,\n",
       " 'timeseries': True,\n",
       " 'start_date': '2012-05-01',\n",
       " 'end_date': '2012-05-03',\n",
       " 'base': 'EUR',\n",
       " 'rates': {'2012-05-01': {'USD': 1.322891, 'AUD': 1.278047, 'CAD': 1.302303},\n",
       "  '2012-05-02': {'USD': 1.315066, 'AUD': 1.274202, 'CAD': 1.299083},\n",
       "  '2012-05-03': {'USD': 1.314491, 'AUD': 1.280135, 'CAD': 1.296868}}}"
      ]
     },
     "execution_count": 2,
     "metadata": {},
     "output_type": "execute_result"
    }
   ],
   "source": [
    "import json\n",
    "import pandas as pd\n",
    "\n",
    "json_object = json.loads(results1)\n",
    "json_object"
   ]
  },
  {
   "cell_type": "code",
   "execution_count": 3,
   "metadata": {},
   "outputs": [
    {
     "data": {
      "text/plain": [
       "{'2012-05-01': {'USD': 1.322891, 'AUD': 1.278047, 'CAD': 1.302303},\n",
       " '2012-05-02': {'USD': 1.315066, 'AUD': 1.274202, 'CAD': 1.299083},\n",
       " '2012-05-03': {'USD': 1.314491, 'AUD': 1.280135, 'CAD': 1.296868}}"
      ]
     },
     "execution_count": 3,
     "metadata": {},
     "output_type": "execute_result"
    }
   ],
   "source": [
    "json_object.get(\"rates\")"
   ]
  },
  {
   "cell_type": "code",
   "execution_count": 285,
   "metadata": {},
   "outputs": [
    {
     "name": "stdout",
     "output_type": "stream",
     "text": [
      "[['USD', 1.322891, '2012-05-01'], ['AUD', 1.278047, '2012-05-01'], ['CAD', 1.302303, '2012-05-01'], ['USD', 1.315066, '2012-05-02'], ['AUD', 1.274202, '2012-05-02'], ['CAD', 1.299083, '2012-05-02'], ['USD', 1.314491, '2012-05-03'], ['AUD', 1.280135, '2012-05-03'], ['CAD', 1.296868, '2012-05-03']]\n"
     ]
    },
    {
     "data": {
      "text/html": [
       "<div>\n",
       "<style scoped>\n",
       "    .dataframe tbody tr th:only-of-type {\n",
       "        vertical-align: middle;\n",
       "    }\n",
       "\n",
       "    .dataframe tbody tr th {\n",
       "        vertical-align: top;\n",
       "    }\n",
       "\n",
       "    .dataframe thead th {\n",
       "        text-align: right;\n",
       "    }\n",
       "</style>\n",
       "<table border=\"1\" class=\"dataframe\">\n",
       "  <thead>\n",
       "    <tr style=\"text-align: right;\">\n",
       "      <th></th>\n",
       "      <th>currency</th>\n",
       "      <th>rate</th>\n",
       "      <th>date</th>\n",
       "      <th>base_currency</th>\n",
       "    </tr>\n",
       "  </thead>\n",
       "  <tbody>\n",
       "    <tr>\n",
       "      <th>0</th>\n",
       "      <td>USD</td>\n",
       "      <td>1.322891</td>\n",
       "      <td>2012-05-01</td>\n",
       "      <td>EUR</td>\n",
       "    </tr>\n",
       "    <tr>\n",
       "      <th>1</th>\n",
       "      <td>AUD</td>\n",
       "      <td>1.278047</td>\n",
       "      <td>2012-05-01</td>\n",
       "      <td>EUR</td>\n",
       "    </tr>\n",
       "    <tr>\n",
       "      <th>2</th>\n",
       "      <td>CAD</td>\n",
       "      <td>1.302303</td>\n",
       "      <td>2012-05-01</td>\n",
       "      <td>EUR</td>\n",
       "    </tr>\n",
       "    <tr>\n",
       "      <th>3</th>\n",
       "      <td>USD</td>\n",
       "      <td>1.315066</td>\n",
       "      <td>2012-05-02</td>\n",
       "      <td>EUR</td>\n",
       "    </tr>\n",
       "    <tr>\n",
       "      <th>4</th>\n",
       "      <td>AUD</td>\n",
       "      <td>1.274202</td>\n",
       "      <td>2012-05-02</td>\n",
       "      <td>EUR</td>\n",
       "    </tr>\n",
       "    <tr>\n",
       "      <th>5</th>\n",
       "      <td>CAD</td>\n",
       "      <td>1.299083</td>\n",
       "      <td>2012-05-02</td>\n",
       "      <td>EUR</td>\n",
       "    </tr>\n",
       "    <tr>\n",
       "      <th>6</th>\n",
       "      <td>USD</td>\n",
       "      <td>1.314491</td>\n",
       "      <td>2012-05-03</td>\n",
       "      <td>EUR</td>\n",
       "    </tr>\n",
       "    <tr>\n",
       "      <th>7</th>\n",
       "      <td>AUD</td>\n",
       "      <td>1.280135</td>\n",
       "      <td>2012-05-03</td>\n",
       "      <td>EUR</td>\n",
       "    </tr>\n",
       "    <tr>\n",
       "      <th>8</th>\n",
       "      <td>CAD</td>\n",
       "      <td>1.296868</td>\n",
       "      <td>2012-05-03</td>\n",
       "      <td>EUR</td>\n",
       "    </tr>\n",
       "  </tbody>\n",
       "</table>\n",
       "</div>"
      ],
      "text/plain": [
       "  currency      rate        date base_currency\n",
       "0      USD  1.322891  2012-05-01           EUR\n",
       "1      AUD  1.278047  2012-05-01           EUR\n",
       "2      CAD  1.302303  2012-05-01           EUR\n",
       "3      USD  1.315066  2012-05-02           EUR\n",
       "4      AUD  1.274202  2012-05-02           EUR\n",
       "5      CAD  1.299083  2012-05-02           EUR\n",
       "6      USD  1.314491  2012-05-03           EUR\n",
       "7      AUD  1.280135  2012-05-03           EUR\n",
       "8      CAD  1.296868  2012-05-03           EUR"
      ]
     },
     "execution_count": 285,
     "metadata": {},
     "output_type": "execute_result"
    }
   ],
   "source": [
    "df = pd.DataFrame(json_object.get(\"rates\"))\n",
    "\n",
    "lst = []\n",
    "\n",
    "for key, value in df.items():\n",
    "    for inner_key in value.keys():\n",
    "        lst.append([inner_key, value[inner_key], key])\n",
    "\n",
    "print(lst)\n",
    "\n",
    "df = pd.DataFrame(lst, columns=[\"currency\", \"rates\", \"date\"])\n",
    "df[\"base_currency\"] = \"EUR\"\n",
    "df = df.rename(columns={\"rates\": \"rate\"})\n",
    "df"
   ]
  }
 ],
 "metadata": {
  "kernelspec": {
   "display_name": "py-etl",
   "language": "python",
   "name": "python3"
  },
  "language_info": {
   "codemirror_mode": {
    "name": "ipython",
    "version": 3
   },
   "file_extension": ".py",
   "mimetype": "text/x-python",
   "name": "python",
   "nbconvert_exporter": "python",
   "pygments_lexer": "ipython3",
   "version": "3.9.17"
  },
  "orig_nbformat": 4
 },
 "nbformat": 4,
 "nbformat_minor": 2
}
